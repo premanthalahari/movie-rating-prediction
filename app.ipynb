{
 "cells": [
  {
   "cell_type": "code",
   "execution_count": 4,
   "metadata": {},
   "outputs": [
    {
     "name": "stdout",
     "output_type": "stream",
     "text": [
      "Fetching data from page 1\n",
      "Fetching data from page 2\n",
      "Fetching data from page 3\n",
      "Fetching data from page 4\n",
      "Fetching data from page 5\n",
      "Fetching data from page 6\n",
      "Fetching data from page 7\n",
      "Fetching data from page 8\n",
      "Fetching data from page 9\n",
      "Fetching data from page 10\n",
      "Data saved to popular_movies.csv\n"
     ]
    }
   ],
   "source": [
    "import requests\n",
    "import pandas as pd\n",
    "\n",
    "api_key = \"ae60927b2621ffdf665f3b47791feda8\"\n",
    "\n",
    "def fetch_data(api_key, page_limit=10):\n",
    "    all_movies = []  # Initialize all_movies as an empty list\n",
    "    for page in range(1, page_limit + 1):\n",
    "        print(f\"Fetching data from page {page}\")\n",
    "        url = f\"https://api.themoviedb.org/3/movie/popular?api_key={api_key}&language=en-US&page={page}\"\n",
    "        response = requests.get(url)\n",
    "\n",
    "        if response.status_code != 200:\n",
    "            print(f\"Failed to fetch page {page}: {response.status_code}\")\n",
    "        else:\n",
    "            results = response.json().get(\"results\", [])\n",
    "\n",
    "    for movie in results:\n",
    "        try:\n",
    "            movie_id = movie[\"id\"]\n",
    "            details_url = f\"https://api.themoviedb.org/3/movie/{movie_id}?api_key={api_key}&append_to_response=credits\"   \n",
    "            details_response = requests.get(details_url).json()\n",
    "\n",
    "\n",
    "            #Extract Details\n",
    "            title = details_response.get(\"title\",\"\")\n",
    "            genres = \", \".join([g['name'] for g in details_response.get(\"genres\",[])])\n",
    "            synopsis = details_response.get(\"overview\",\"\")\n",
    "            rating = details_response.get(\"vote_average\",0)\n",
    "\n",
    "            credits = details_response.get(\"credits\",{})\n",
    "            cast = credits.get(\"cast\",[])\n",
    "            crew = credits.get(\"crew\",[])\n",
    "\n",
    "            actors = \", \".join([actor[\"name\"] for actor in cast[:3]])\n",
    "            directors = \", \".join([person[\"name\"] for person in crew if person[\"job\"] == \"Director\"])\n",
    "\n",
    "            all_movies.append({\n",
    "                'title': title,\n",
    "                'genres': genres,\n",
    "                'synopsis': synopsis,\n",
    "                'rating': rating,\n",
    "                'actors': actors,\n",
    "                'directors': directors\n",
    "            })\n",
    "\n",
    "        except Exception as e:\n",
    "            print(f\"Failed to process movie {movie_id}: {e}\")\n",
    "            continue\n",
    "    return pd.DataFrame(all_movies)\n",
    "\n",
    "movie_df = fetch_data(api_key, page_limit=10)\n",
    "movie_df.to_csv(\"popular_movies.csv\", index=False)\n",
    "print(\"Data saved to popular_movies.csv\")\n"
   ]
  },
  {
   "cell_type": "code",
   "execution_count": 7,
   "metadata": {},
   "outputs": [],
   "source": [
    "import numpy as np\n",
    "from sklearn.model_selection import train_test_split\n",
    "from sklearn.metrics import mean_squared_error, r2_score\n",
    "from xgboost import XGBRegressor\n",
    "from sentence_transformers import SentenceTransformer \n",
    "import pickle\n",
    "\n"
   ]
  },
  {
   "cell_type": "code",
   "execution_count": 8,
   "metadata": {},
   "outputs": [
    {
     "data": {
      "text/html": [
       "<div>\n",
       "<style scoped>\n",
       "    .dataframe tbody tr th:only-of-type {\n",
       "        vertical-align: middle;\n",
       "    }\n",
       "\n",
       "    .dataframe tbody tr th {\n",
       "        vertical-align: top;\n",
       "    }\n",
       "\n",
       "    .dataframe thead th {\n",
       "        text-align: right;\n",
       "    }\n",
       "</style>\n",
       "<table border=\"1\" class=\"dataframe\">\n",
       "  <thead>\n",
       "    <tr style=\"text-align: right;\">\n",
       "      <th></th>\n",
       "      <th>title</th>\n",
       "      <th>genres</th>\n",
       "      <th>synopsis</th>\n",
       "      <th>rating</th>\n",
       "      <th>actors</th>\n",
       "      <th>directors</th>\n",
       "    </tr>\n",
       "  </thead>\n",
       "  <tbody>\n",
       "    <tr>\n",
       "      <th>0</th>\n",
       "      <td>Faust: Love of the Damned</td>\n",
       "      <td>Horror, Fantasy, Action</td>\n",
       "      <td>An artist sells his soul to the mysterious M i...</td>\n",
       "      <td>4.900</td>\n",
       "      <td>Mark Frost, Isabel Brook, Jennifer Rope</td>\n",
       "      <td>Brian Yuzna</td>\n",
       "    </tr>\n",
       "    <tr>\n",
       "      <th>1</th>\n",
       "      <td>Road House</td>\n",
       "      <td>Action, Thriller</td>\n",
       "      <td>Ex-UFC fighter Dalton takes a job as a bouncer...</td>\n",
       "      <td>6.946</td>\n",
       "      <td>Jake Gyllenhaal, Billy Magnussen, Daniela Melc...</td>\n",
       "      <td>Doug Liman</td>\n",
       "    </tr>\n",
       "    <tr>\n",
       "      <th>2</th>\n",
       "      <td>Parthenope</td>\n",
       "      <td>Romance, Drama</td>\n",
       "      <td>Parthenope, born in the sea near Naples in 195...</td>\n",
       "      <td>6.900</td>\n",
       "      <td>Celeste Dalla Porta, Stefania Sandrelli, Gary ...</td>\n",
       "      <td>Paolo Sorrentino</td>\n",
       "    </tr>\n",
       "    <tr>\n",
       "      <th>3</th>\n",
       "      <td>Victoria</td>\n",
       "      <td>Animation</td>\n",
       "      <td>Wordless animated fim from Robert Sahakyants</td>\n",
       "      <td>0.000</td>\n",
       "      <td></td>\n",
       "      <td>Robert Sahakyants</td>\n",
       "    </tr>\n",
       "    <tr>\n",
       "      <th>4</th>\n",
       "      <td>Coraline</td>\n",
       "      <td>Animation, Family, Fantasy</td>\n",
       "      <td>Wandering her rambling old house in her boring...</td>\n",
       "      <td>7.900</td>\n",
       "      <td>Dakota Fanning, Teri Hatcher, Jennifer Saunders</td>\n",
       "      <td>Henry Selick</td>\n",
       "    </tr>\n",
       "  </tbody>\n",
       "</table>\n",
       "</div>"
      ],
      "text/plain": [
       "                       title                      genres  \\\n",
       "0  Faust: Love of the Damned     Horror, Fantasy, Action   \n",
       "1                 Road House            Action, Thriller   \n",
       "2                 Parthenope              Romance, Drama   \n",
       "3                   Victoria                   Animation   \n",
       "4                   Coraline  Animation, Family, Fantasy   \n",
       "\n",
       "                                            synopsis  rating  \\\n",
       "0  An artist sells his soul to the mysterious M i...   4.900   \n",
       "1  Ex-UFC fighter Dalton takes a job as a bouncer...   6.946   \n",
       "2  Parthenope, born in the sea near Naples in 195...   6.900   \n",
       "3       Wordless animated fim from Robert Sahakyants   0.000   \n",
       "4  Wandering her rambling old house in her boring...   7.900   \n",
       "\n",
       "                                              actors          directors  \n",
       "0            Mark Frost, Isabel Brook, Jennifer Rope        Brian Yuzna  \n",
       "1  Jake Gyllenhaal, Billy Magnussen, Daniela Melc...         Doug Liman  \n",
       "2  Celeste Dalla Porta, Stefania Sandrelli, Gary ...   Paolo Sorrentino  \n",
       "3                                                     Robert Sahakyants  \n",
       "4    Dakota Fanning, Teri Hatcher, Jennifer Saunders       Henry Selick  "
      ]
     },
     "execution_count": 8,
     "metadata": {},
     "output_type": "execute_result"
    }
   ],
   "source": [
    "data = pd.read_csv(\"popular_movies.csv\")\n",
    "data.fillna(\"\", inplace=True)\n",
    "data.head()"
   ]
  },
  {
   "cell_type": "code",
   "execution_count": 9,
   "metadata": {},
   "outputs": [],
   "source": [
    "avg_actor_rating = data.groupby('actors')['rating'].mean().to_dict()\n",
    "avg_director_rating = data.groupby('directors')['rating'].mean().to_dict()\n",
    "\n",
    "data['avg_actor_rating'] = data['actors'].map(avg_actor_rating)\n",
    "data['avg_director_rating'] = data['directors'].map(avg_director_rating)\n"
   ]
  },
  {
   "cell_type": "code",
   "execution_count": 10,
   "metadata": {},
   "outputs": [
    {
     "data": {
      "text/html": [
       "<div>\n",
       "<style scoped>\n",
       "    .dataframe tbody tr th:only-of-type {\n",
       "        vertical-align: middle;\n",
       "    }\n",
       "\n",
       "    .dataframe tbody tr th {\n",
       "        vertical-align: top;\n",
       "    }\n",
       "\n",
       "    .dataframe thead th {\n",
       "        text-align: right;\n",
       "    }\n",
       "</style>\n",
       "<table border=\"1\" class=\"dataframe\">\n",
       "  <thead>\n",
       "    <tr style=\"text-align: right;\">\n",
       "      <th></th>\n",
       "      <th>title</th>\n",
       "      <th>genres</th>\n",
       "      <th>synopsis</th>\n",
       "      <th>rating</th>\n",
       "      <th>actors</th>\n",
       "      <th>directors</th>\n",
       "      <th>avg_actor_rating</th>\n",
       "      <th>avg_director_rating</th>\n",
       "    </tr>\n",
       "  </thead>\n",
       "  <tbody>\n",
       "    <tr>\n",
       "      <th>0</th>\n",
       "      <td>Faust: Love of the Damned</td>\n",
       "      <td>Horror, Fantasy, Action</td>\n",
       "      <td>An artist sells his soul to the mysterious M i...</td>\n",
       "      <td>4.900</td>\n",
       "      <td>Mark Frost, Isabel Brook, Jennifer Rope</td>\n",
       "      <td>Brian Yuzna</td>\n",
       "      <td>4.900</td>\n",
       "      <td>4.900</td>\n",
       "    </tr>\n",
       "    <tr>\n",
       "      <th>1</th>\n",
       "      <td>Road House</td>\n",
       "      <td>Action, Thriller</td>\n",
       "      <td>Ex-UFC fighter Dalton takes a job as a bouncer...</td>\n",
       "      <td>6.946</td>\n",
       "      <td>Jake Gyllenhaal, Billy Magnussen, Daniela Melc...</td>\n",
       "      <td>Doug Liman</td>\n",
       "      <td>6.946</td>\n",
       "      <td>6.946</td>\n",
       "    </tr>\n",
       "    <tr>\n",
       "      <th>2</th>\n",
       "      <td>Parthenope</td>\n",
       "      <td>Romance, Drama</td>\n",
       "      <td>Parthenope, born in the sea near Naples in 195...</td>\n",
       "      <td>6.900</td>\n",
       "      <td>Celeste Dalla Porta, Stefania Sandrelli, Gary ...</td>\n",
       "      <td>Paolo Sorrentino</td>\n",
       "      <td>6.900</td>\n",
       "      <td>6.900</td>\n",
       "    </tr>\n",
       "    <tr>\n",
       "      <th>3</th>\n",
       "      <td>Victoria</td>\n",
       "      <td>Animation</td>\n",
       "      <td>Wordless animated fim from Robert Sahakyants</td>\n",
       "      <td>0.000</td>\n",
       "      <td></td>\n",
       "      <td>Robert Sahakyants</td>\n",
       "      <td>0.000</td>\n",
       "      <td>0.000</td>\n",
       "    </tr>\n",
       "    <tr>\n",
       "      <th>4</th>\n",
       "      <td>Coraline</td>\n",
       "      <td>Animation, Family, Fantasy</td>\n",
       "      <td>Wandering her rambling old house in her boring...</td>\n",
       "      <td>7.900</td>\n",
       "      <td>Dakota Fanning, Teri Hatcher, Jennifer Saunders</td>\n",
       "      <td>Henry Selick</td>\n",
       "      <td>7.900</td>\n",
       "      <td>7.900</td>\n",
       "    </tr>\n",
       "  </tbody>\n",
       "</table>\n",
       "</div>"
      ],
      "text/plain": [
       "                       title                      genres  \\\n",
       "0  Faust: Love of the Damned     Horror, Fantasy, Action   \n",
       "1                 Road House            Action, Thriller   \n",
       "2                 Parthenope              Romance, Drama   \n",
       "3                   Victoria                   Animation   \n",
       "4                   Coraline  Animation, Family, Fantasy   \n",
       "\n",
       "                                            synopsis  rating  \\\n",
       "0  An artist sells his soul to the mysterious M i...   4.900   \n",
       "1  Ex-UFC fighter Dalton takes a job as a bouncer...   6.946   \n",
       "2  Parthenope, born in the sea near Naples in 195...   6.900   \n",
       "3       Wordless animated fim from Robert Sahakyants   0.000   \n",
       "4  Wandering her rambling old house in her boring...   7.900   \n",
       "\n",
       "                                              actors          directors  \\\n",
       "0            Mark Frost, Isabel Brook, Jennifer Rope        Brian Yuzna   \n",
       "1  Jake Gyllenhaal, Billy Magnussen, Daniela Melc...         Doug Liman   \n",
       "2  Celeste Dalla Porta, Stefania Sandrelli, Gary ...   Paolo Sorrentino   \n",
       "3                                                     Robert Sahakyants   \n",
       "4    Dakota Fanning, Teri Hatcher, Jennifer Saunders       Henry Selick   \n",
       "\n",
       "   avg_actor_rating  avg_director_rating  \n",
       "0             4.900                4.900  \n",
       "1             6.946                6.946  \n",
       "2             6.900                6.900  \n",
       "3             0.000                0.000  \n",
       "4             7.900                7.900  "
      ]
     },
     "execution_count": 10,
     "metadata": {},
     "output_type": "execute_result"
    }
   ],
   "source": [
    " data.head()"
   ]
  },
  {
   "cell_type": "code",
   "execution_count": 12,
   "metadata": {},
   "outputs": [
    {
     "data": {
      "application/vnd.jupyter.widget-view+json": {
       "model_id": "546c8e9c392d4671b7615581449a7854",
       "version_major": 2,
       "version_minor": 0
      },
      "text/plain": [
       "modules.json:   0%|          | 0.00/349 [00:00<?, ?B/s]"
      ]
     },
     "metadata": {},
     "output_type": "display_data"
    },
    {
     "data": {
      "application/vnd.jupyter.widget-view+json": {
       "model_id": "1ddb04d3fe2c44eb874895bf87ed1e90",
       "version_major": 2,
       "version_minor": 0
      },
      "text/plain": [
       "config_sentence_transformers.json:   0%|          | 0.00/116 [00:00<?, ?B/s]"
      ]
     },
     "metadata": {},
     "output_type": "display_data"
    },
    {
     "data": {
      "application/vnd.jupyter.widget-view+json": {
       "model_id": "9faf95ea48004346a834d82ab74111b7",
       "version_major": 2,
       "version_minor": 0
      },
      "text/plain": [
       "README.md:   0%|          | 0.00/10.5k [00:00<?, ?B/s]"
      ]
     },
     "metadata": {},
     "output_type": "display_data"
    },
    {
     "data": {
      "application/vnd.jupyter.widget-view+json": {
       "model_id": "5ca41d3ec61e4b7db29c84638daa1e4d",
       "version_major": 2,
       "version_minor": 0
      },
      "text/plain": [
       "sentence_bert_config.json:   0%|          | 0.00/53.0 [00:00<?, ?B/s]"
      ]
     },
     "metadata": {},
     "output_type": "display_data"
    },
    {
     "data": {
      "application/vnd.jupyter.widget-view+json": {
       "model_id": "da1e820628f74154bd009f70cbb1415e",
       "version_major": 2,
       "version_minor": 0
      },
      "text/plain": [
       "config.json:   0%|          | 0.00/612 [00:00<?, ?B/s]"
      ]
     },
     "metadata": {},
     "output_type": "display_data"
    },
    {
     "data": {
      "application/vnd.jupyter.widget-view+json": {
       "model_id": "2f996f52fa854896b0bbc2848450bc8a",
       "version_major": 2,
       "version_minor": 0
      },
      "text/plain": [
       "model.safetensors:   0%|          | 0.00/90.9M [00:00<?, ?B/s]"
      ]
     },
     "metadata": {},
     "output_type": "display_data"
    },
    {
     "data": {
      "application/vnd.jupyter.widget-view+json": {
       "model_id": "8a236329eddc4282aa6e28d0f61047f5",
       "version_major": 2,
       "version_minor": 0
      },
      "text/plain": [
       "tokenizer_config.json:   0%|          | 0.00/350 [00:00<?, ?B/s]"
      ]
     },
     "metadata": {},
     "output_type": "display_data"
    },
    {
     "data": {
      "application/vnd.jupyter.widget-view+json": {
       "model_id": "77aaff53e0044fef8cf1876b1b2ddc24",
       "version_major": 2,
       "version_minor": 0
      },
      "text/plain": [
       "vocab.txt:   0%|          | 0.00/232k [00:00<?, ?B/s]"
      ]
     },
     "metadata": {},
     "output_type": "display_data"
    },
    {
     "data": {
      "application/vnd.jupyter.widget-view+json": {
       "model_id": "6e0656bd1ca54a6b8923c8e9f62d3274",
       "version_major": 2,
       "version_minor": 0
      },
      "text/plain": [
       "tokenizer.json:   0%|          | 0.00/466k [00:00<?, ?B/s]"
      ]
     },
     "metadata": {},
     "output_type": "display_data"
    },
    {
     "data": {
      "application/vnd.jupyter.widget-view+json": {
       "model_id": "00031587011c4457a8715f009d131fc9",
       "version_major": 2,
       "version_minor": 0
      },
      "text/plain": [
       "special_tokens_map.json:   0%|          | 0.00/112 [00:00<?, ?B/s]"
      ]
     },
     "metadata": {},
     "output_type": "display_data"
    },
    {
     "data": {
      "application/vnd.jupyter.widget-view+json": {
       "model_id": "83df36fa755744b4882a271a54b0b807",
       "version_major": 2,
       "version_minor": 0
      },
      "text/plain": [
       "config.json:   0%|          | 0.00/190 [00:00<?, ?B/s]"
      ]
     },
     "metadata": {},
     "output_type": "display_data"
    }
   ],
   "source": [
    "sentence_model = SentenceTransformer('all-MiniLM-L6-v2')\n",
    "synopsis_embeddings = sentence_model.encode(data['synopsis'].tolist())\n",
    "\n",
    "genre_ohe = pd.get_dummies(data['genres'])"
   ]
  },
  {
   "cell_type": "code",
   "execution_count": 15,
   "metadata": {},
   "outputs": [],
   "source": [
    "#combine all the features\n",
    "\n",
    "x = np.hstack((\n",
    "    synopsis_embeddings,\n",
    "    genre_ohe.values,\n",
    "    data[['avg_actor_rating', 'avg_director_rating']].values\n",
    "))\n",
    "y = data['rating']\n",
    "\n",
    "x_train, x_test, y_train, y_test = train_test_split(x, y, test_size=0.2, random_state=42)\n"
   ]
  },
  {
   "cell_type": "code",
   "execution_count": null,
   "metadata": {},
   "outputs": [],
   "source": []
  }
 ],
 "metadata": {
  "kernelspec": {
   "display_name": "base",
   "language": "python",
   "name": "python3"
  },
  "language_info": {
   "codemirror_mode": {
    "name": "ipython",
    "version": 3
   },
   "file_extension": ".py",
   "mimetype": "text/x-python",
   "name": "python",
   "nbconvert_exporter": "python",
   "pygments_lexer": "ipython3",
   "version": "3.11.7"
  }
 },
 "nbformat": 4,
 "nbformat_minor": 2
}
